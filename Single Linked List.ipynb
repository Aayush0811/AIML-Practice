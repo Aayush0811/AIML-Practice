{
 "cells": [
  {
   "cell_type": "code",
   "execution_count": 2,
   "metadata": {},
   "outputs": [],
   "source": [
    "class train_coach:\n",
    "    \n",
    "    a_number = None\n",
    "    \n",
    "    hook = None"
   ]
  },
  {
   "cell_type": "code",
   "execution_count": 3,
   "metadata": {},
   "outputs": [],
   "source": [
    "l = [25,36,92,48,53,77]"
   ]
  },
  {
   "cell_type": "code",
   "execution_count": 4,
   "metadata": {},
   "outputs": [],
   "source": [
    "number_of_nodes = 0\n",
    "\n",
    "first_coach = None \n",
    "\n",
    "last_coach = None"
   ]
  },
  {
   "cell_type": "code",
   "execution_count": 5,
   "metadata": {},
   "outputs": [],
   "source": [
    "def connect_coaches(class_instance,engine):\n",
    "    \n",
    "    global first_coach\n",
    "    \n",
    "    global last_coach\n",
    "    \n",
    "    global number_of_nodes\n",
    "    \n",
    "    if engine == last_coach:\n",
    "        \n",
    "        last_coach = class_instance\n",
    "        \n",
    "        first_coach = last_coach\n",
    "    \n",
    "    else:\n",
    "        \n",
    "        last_coach.hook = class_instance\n",
    "        \n",
    "        last_coach = class_instance\n",
    "        \n",
    "    number_of_nodes = number_of_nodes + 1"
   ]
  },
  {
   "cell_type": "code",
   "execution_count": 6,
   "metadata": {},
   "outputs": [],
   "source": [
    "def print_linked_list(engine_address):\n",
    "    \n",
    "    if engine_address == None:\n",
    "        \n",
    "        return\n",
    "    \n",
    "    else:\n",
    "        \n",
    "        print(engine_address.a_number)\n",
    "        \n",
    "        print_linked_list(engine_address.hook)"
   ]
  },
  {
   "cell_type": "code",
   "execution_count": 7,
   "metadata": {},
   "outputs": [],
   "source": [
    "def insert(loc,engine_address,value):\n",
    "    \n",
    "    global number_of_nodes\n",
    "    \n",
    "    global first_coach\n",
    "    \n",
    "    global last_coach\n",
    "    \n",
    "    if loc == number_of_nodes:\n",
    "        \n",
    "        new_coach = train_coach()\n",
    "        \n",
    "        new_coach.a_number = value\n",
    "        \n",
    "        last_coach.hook = new_coach\n",
    "        \n",
    "        last_coach = new_coach\n",
    "        \n",
    "        number_of_nodes = number_of_nodes + 1\n",
    "        \n",
    "        return \n",
    "    \n",
    "    if loc < 0 or loc > number_of_nodes:\n",
    "        \n",
    "        print(\"You have asked to insert the element at an invalid location, please try again\")\n",
    "        \n",
    "        return\n",
    "    \n",
    "    if loc == 0:\n",
    "        \n",
    "        new_coach = train_coach()\n",
    "        \n",
    "        new_coach.a_number = value\n",
    "        \n",
    "        new_coach.hook = first_coach\n",
    "        \n",
    "        first_coach = new_coach\n",
    "        \n",
    "        number_of_nodes = number_of_nodes + 1\n",
    "        \n",
    "        return\n",
    "    \n",
    "    if loc == 1:\n",
    "        \n",
    "        new_coach = train_coach()\n",
    "        \n",
    "        new_coach.a_number = value\n",
    "        \n",
    "        temp_address = engine_address.hook\n",
    "        \n",
    "        engine_address.hook = new_coach\n",
    "        \n",
    "        new_coach.hook = temp_address\n",
    "        \n",
    "        number_of_nodes = number_of_nodes + 1\n",
    "        \n",
    "        return \n",
    "    \n",
    "    loc = loc - 1\n",
    "    \n",
    "    insert(loc,engine_address.hook,value)"
   ]
  },
  {
   "cell_type": "code",
   "execution_count": 8,
   "metadata": {},
   "outputs": [],
   "source": [
    "engine = None\n",
    "\n",
    "for number in l:\n",
    "    \n",
    "    class_instance = train_coach()\n",
    "    \n",
    "    class_instance.a_number = number\n",
    "    \n",
    "    connect_coaches(class_instance,engine)"
   ]
  },
  {
   "cell_type": "code",
   "execution_count": 9,
   "metadata": {},
   "outputs": [
    {
     "name": "stdout",
     "output_type": "stream",
     "text": [
      "25\n",
      "36\n",
      "92\n",
      "48\n",
      "53\n",
      "77\n"
     ]
    }
   ],
   "source": [
    "print_linked_list(first_coach)"
   ]
  },
  {
   "cell_type": "code",
   "execution_count": 12,
   "metadata": {},
   "outputs": [],
   "source": [
    "insert (2, first_coach, 200)"
   ]
  },
  {
   "cell_type": "code",
   "execution_count": 13,
   "metadata": {},
   "outputs": [
    {
     "name": "stdout",
     "output_type": "stream",
     "text": [
      "25\n",
      "36\n",
      "200\n",
      "92\n",
      "48\n",
      "53\n",
      "77\n"
     ]
    }
   ],
   "source": [
    "print_linked_list(first_coach)"
   ]
  },
  {
   "cell_type": "code",
   "execution_count": null,
   "metadata": {},
   "outputs": [],
   "source": []
  }
 ],
 "metadata": {
  "kernelspec": {
   "display_name": "Python 3",
   "language": "python",
   "name": "python3"
  },
  "language_info": {
   "codemirror_mode": {
    "name": "ipython",
    "version": 3
   },
   "file_extension": ".py",
   "mimetype": "text/x-python",
   "name": "python",
   "nbconvert_exporter": "python",
   "pygments_lexer": "ipython3",
   "version": "3.7.6"
  }
 },
 "nbformat": 4,
 "nbformat_minor": 2
}
