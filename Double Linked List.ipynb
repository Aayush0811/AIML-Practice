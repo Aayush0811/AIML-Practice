{
 "cells": [
  {
   "cell_type": "code",
   "execution_count": 15,
   "metadata": {},
   "outputs": [],
   "source": [
    "#Create a Double Linked List of the numbers in the given list\n",
    "l = [25,36,92,48,53,77]"
   ]
  },
  {
   "cell_type": "code",
   "execution_count": 16,
   "metadata": {},
   "outputs": [],
   "source": [
    "#Construct a class train and make the first box empty(none)\n",
    "class train_coach:\n",
    "    previous_hook = None\n",
    "    a_number = None\n",
    "    next_hook = None"
   ]
  },
  {
   "cell_type": "code",
   "execution_count": 17,
   "metadata": {},
   "outputs": [],
   "source": [
    "#Temporary variables\n",
    "number_of_nodes  = 0\n",
    "first_coach = None\n",
    "last_coach = None"
   ]
  },
  {
   "cell_type": "code",
   "execution_count": 18,
   "metadata": {},
   "outputs": [],
   "source": [
    "def connect_coaches(class_instance, engine):\n",
    "    global number_of_nodes\n",
    "    global first_coach\n",
    "    global last_coach\n",
    "    \n",
    "    if engine == last_coach:\n",
    "        last_coach = class_instance\n",
    "        first_coach = last_coach\n",
    "    else:\n",
    "        class_instance.previous_hook = last_coach\n",
    "        last_coach.next_hook = class_instance\n",
    "        last_coach = class_instance\n",
    "    number_of_nodes = number_of_nodes + 1"
   ]
  },
  {
   "cell_type": "code",
   "execution_count": 19,
   "metadata": {},
   "outputs": [],
   "source": [
    "engine = None\n",
    "\n",
    "for number in l:\n",
    "    class_instance = train_coach()\n",
    "    class_instance.a_number = number\n",
    "    connect_coaches(class_instance, engine)"
   ]
  },
  {
   "cell_type": "code",
   "execution_count": 20,
   "metadata": {},
   "outputs": [],
   "source": [
    "def print_linked_list(engine_address):\n",
    "    if engine_address == None:\n",
    "        return\n",
    "    else:\n",
    "        print (engine_address.a_number)\n",
    "        print_linked_list(engine_address.next_hook)"
   ]
  },
  {
   "cell_type": "code",
   "execution_count": 21,
   "metadata": {},
   "outputs": [],
   "source": [
    "def print_linked_list_reverse(last_coach):\n",
    "    if last_coach == None:\n",
    "        return\n",
    "    else:\n",
    "        print(last_coach.a_number)\n",
    "        print_linked_list_reverse(last_coach.previous_hook)"
   ]
  },
  {
   "cell_type": "code",
   "execution_count": 22,
   "metadata": {},
   "outputs": [],
   "source": [
    "def insert (loc,engine_address,value):\n",
    "    global number_of_nodes\n",
    "    global first_coach\n",
    "    global last_coach\n",
    "    \n",
    "    #Insertion at last loc\n",
    "    if loc == number_of_nodes:\n",
    "        new_coach = train_coach()\n",
    "        new_coach.a_number = value\n",
    "        last_coach.next_hook = new_coach\n",
    "        new_coach.previous_hook = last_coach\n",
    "        last_coach = new_coach\n",
    "        number_of_nodes = number_of_nodes + 1\n",
    "        return\n",
    "    \n",
    "    #Insertion at Invalid loc\n",
    "    if loc<0 or loc>number_of_nodes:\n",
    "        print(\"You have asked to insert the element at an invalid location\")\n",
    "        return\n",
    "    \n",
    "    #Insertion at start\n",
    "    if loc == 0:\n",
    "        new_coach = train_coach()\n",
    "        new_coach.a_number = value\n",
    "        new_coach.next_hook = first_coach\n",
    "        first_coach.previous_hook = new_coach\n",
    "        first_coach = new_coach\n",
    "        number_of_nodes = number_of_nodes + 1\n",
    "        return\n",
    "    \n",
    "    #Insertion at any loc\n",
    "    if loc == 1:\n",
    "        new_coach = train_coach()\n",
    "        new_coach.a_number = value\n",
    "        temp_address = engine_address.next_hook\n",
    "        engine_address.next_hook = new_coach\n",
    "        new_coach.previous_hook = engine_address\n",
    "        new_coach.next_hook = temp_address\n",
    "        temp_address.previous_hook = new_coach\n",
    "        number_of_nodes = number_of_nodes + 1\n",
    "        return"
   ]
  },
  {
   "cell_type": "code",
   "execution_count": 23,
   "metadata": {
    "tags": []
   },
   "outputs": [
    {
     "output_type": "stream",
     "name": "stdout",
     "text": "25\n36\n92\n48\n53\n77\n"
    }
   ],
   "source": [
    "print_linked_list(first_coach)"
   ]
  },
  {
   "cell_type": "code",
   "execution_count": 24,
   "metadata": {},
   "outputs": [],
   "source": [
    "insert (0,first_coach,4004)"
   ]
  },
  {
   "cell_type": "code",
   "execution_count": 25,
   "metadata": {
    "tags": []
   },
   "outputs": [
    {
     "output_type": "stream",
     "name": "stdout",
     "text": "4004\n25\n36\n92\n48\n53\n77\n"
    }
   ],
   "source": [
    "print_linked_list(first_coach)"
   ]
  },
  {
   "cell_type": "code",
   "execution_count": 26,
   "metadata": {},
   "outputs": [],
   "source": [
    "insert(2,first_coach,2002)\n",
    "insert(5,first_coach,505)"
   ]
  },
  {
   "cell_type": "code",
   "execution_count": 27,
   "metadata": {
    "tags": []
   },
   "outputs": [
    {
     "output_type": "stream",
     "name": "stdout",
     "text": "4004\n25\n36\n92\n48\n53\n77\n"
    }
   ],
   "source": [
    "print_linked_list(first_coach)"
   ]
  },
  {
   "cell_type": "code",
   "execution_count": 28,
   "metadata": {
    "tags": []
   },
   "outputs": [
    {
     "output_type": "stream",
     "name": "stdout",
     "text": "77\n53\n48\n92\n36\n25\n4004\n"
    }
   ],
   "source": [
    "print_linked_list_reverse(last_coach)"
   ]
  },
  {
   "cell_type": "code",
   "execution_count": null,
   "metadata": {},
   "outputs": [],
   "source": []
  }
 ],
 "metadata": {
  "kernelspec": {
   "display_name": "Python 3",
   "language": "python",
   "name": "python3"
  },
  "language_info": {
   "codemirror_mode": {
    "name": "ipython",
    "version": 3
   },
   "file_extension": ".py",
   "mimetype": "text/x-python",
   "name": "python",
   "nbconvert_exporter": "python",
   "pygments_lexer": "ipython3",
   "version": "3.7.6-final"
  }
 },
 "nbformat": 4,
 "nbformat_minor": 4
}